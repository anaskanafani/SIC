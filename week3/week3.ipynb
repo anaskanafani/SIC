{
 "cells": [
  {
   "cell_type": "code",
   "execution_count": 1,
   "metadata": {},
   "outputs": [],
   "source": [
    "import numpy as np"
   ]
  },
  {
   "cell_type": "code",
   "execution_count": 3,
   "id": "07c8aba9",
   "metadata": {},
   "outputs": [],
   "source": [
    "arr = np.array([1, 2, 3]) # The array elements are same type\n",
    "arr_copy = np.copy(arr) # copy the array"
   ]
  },
  {
   "cell_type": "code",
   "execution_count": 7,
   "id": "9c02e960",
   "metadata": {},
   "outputs": [
    {
     "data": {
      "text/plain": [
       "array({1, 2, 3, 4, 5}, dtype=object)"
      ]
     },
     "execution_count": 7,
     "metadata": {},
     "output_type": "execute_result"
    }
   ],
   "source": [
    "set_arr = np.array({1,1,2,3,3,4,4,5,5}) # set (no repeated elements)\n",
    "set_arr"
   ]
  },
  {
   "cell_type": "code",
   "execution_count": 8,
   "id": "61ad560f",
   "metadata": {},
   "outputs": [
    {
     "data": {
      "text/plain": [
       "array({'one': 1, 'two': 2, 'three': 3}, dtype=object)"
      ]
     },
     "execution_count": 8,
     "metadata": {},
     "output_type": "execute_result"
    }
   ],
   "source": [
    "dict_arr = np.array({'one':1, 'two':2, 'three':3}) # dictionary\n",
    "dict_arr"
   ]
  },
  {
   "cell_type": "code",
   "execution_count": 9,
   "id": "6e7a083c",
   "metadata": {},
   "outputs": [
    {
     "data": {
      "text/plain": [
       "array([1, 3, 5, 7, 9])"
      ]
     },
     "execution_count": 9,
     "metadata": {},
     "output_type": "execute_result"
    }
   ],
   "source": [
    "np.arange(10) # array of 10 elements\n",
    "np.arange(1, 10) # array of 9 elements\n",
    "np.arange(1, 10, 2) # array of 5 elements\n"
   ]
  },
  {
   "cell_type": "code",
   "execution_count": 10,
   "id": "b56baf77",
   "metadata": {},
   "outputs": [
    {
     "data": {
      "text/plain": [
       "array([[1, 2, 3],\n",
       "       [4, 5, 6],\n",
       "       [7, 8, 9]])"
      ]
     },
     "execution_count": 10,
     "metadata": {},
     "output_type": "execute_result"
    }
   ],
   "source": [
    "multi_arr = np.array([[1,2,3], [4,5,6], [7,8,9]])\n",
    "multi_arr"
   ]
  },
  {
   "cell_type": "code",
   "execution_count": 12,
   "id": "623ac68c",
   "metadata": {},
   "outputs": [
    {
     "data": {
      "text/plain": [
       "array([[0., 0., 0.],\n",
       "       [0., 0., 0.]])"
      ]
     },
     "execution_count": 12,
     "metadata": {},
     "output_type": "execute_result"
    }
   ],
   "source": [
    "np.zeros((2,3)) # array of 2 rows and 3 columns\n"
   ]
  },
  {
   "cell_type": "code",
   "execution_count": 34,
   "id": "42e3e68c",
   "metadata": {},
   "outputs": [
    {
     "data": {
      "text/plain": [
       "0.6601704377211484"
      ]
     },
     "execution_count": 34,
     "metadata": {},
     "output_type": "execute_result"
    }
   ],
   "source": [
    "random_arr = np.random.rand(2,3) # array of 2 rows and 3 columns\n",
    "random_arr\n",
    "np.mean(random_arr) # mean of the array"
   ]
  },
  {
   "cell_type": "code",
   "execution_count": 55,
   "id": "442cdc8d",
   "metadata": {},
   "outputs": [
    {
     "data": {
      "text/plain": [
       "array([[1, 2, 3, 8],\n",
       "       [5, 6, 7, 9]])"
      ]
     },
     "execution_count": 55,
     "metadata": {},
     "output_type": "execute_result"
    }
   ],
   "source": [
    "a = np.array([[1, 2, 3], [5, 6, 7]])\n",
    "row = np.append(a, [[1, 2, 3]], axis=0)  # append a row to the array\n",
    "row\n",
    "col = np.append(a, [[8],[9]], axis=1) # append a column to the array\n",
    "col\n"
   ]
  },
  {
   "cell_type": "code",
   "execution_count": 59,
   "id": "19a70391",
   "metadata": {},
   "outputs": [
    {
     "data": {
      "text/plain": [
       "array([[1, 3],\n",
       "       [5, 7]])"
      ]
     },
     "execution_count": 59,
     "metadata": {},
     "output_type": "execute_result"
    }
   ],
   "source": [
    "np.delete(a, 1, axis=0) # delete the second row\n",
    "np.delete(a, 1, axis=1) # delete the second column"
   ]
  },
  {
   "cell_type": "code",
   "execution_count": 78,
   "id": "5a7d0a25",
   "metadata": {},
   "outputs": [
    {
     "data": {
      "text/plain": [
       "(3,)"
      ]
     },
     "execution_count": 78,
     "metadata": {},
     "output_type": "execute_result"
    }
   ],
   "source": [
    "a = np.array([1, 2, 3])\n",
    "b = np.array([[4, 5, 6],[7,8,9]])\n",
    "a.shape"
   ]
  },
  {
   "cell_type": "code",
   "execution_count": 68,
   "id": "9389608a",
   "metadata": {},
   "outputs": [
    {
     "data": {
      "text/plain": [
       "array([None], dtype=object)"
      ]
     },
     "execution_count": 68,
     "metadata": {},
     "output_type": "execute_result"
    }
   ],
   "source": [
    "np.unique(a) # unique elements in the array"
   ]
  },
  {
   "cell_type": "code",
   "execution_count": 93,
   "id": "940699a8",
   "metadata": {},
   "outputs": [
    {
     "data": {
      "text/plain": [
       "array([4, 5, 6, 7, 8, 9])"
      ]
     },
     "execution_count": 93,
     "metadata": {},
     "output_type": "execute_result"
    }
   ],
   "source": [
    "# a[[0,2]]\n",
    "# b.shape\n",
    "b[[0, 0], [1, 0]]\n",
    "b[b % 2 == 0]  # elements that are even\n",
    "b[b > 3]  # elements that are greater than 3\n"
   ]
  },
  {
   "cell_type": "code",
   "execution_count": 107,
   "id": "7ae57de5",
   "metadata": {},
   "outputs": [
    {
     "name": "stdout",
     "output_type": "stream",
     "text": [
      "[[1 2 3]\n",
      " [4 5 6]\n",
      " [7 8 9]]\n"
     ]
    },
    {
     "data": {
      "text/plain": [
       "array([2, 3])"
      ]
     },
     "execution_count": 107,
     "metadata": {},
     "output_type": "execute_result"
    }
   ],
   "source": [
    "# slicing\n",
    "print(a)  # first two elements\n",
    "a = np.array([[1, 2, 3], [4, 5, 6], [7, 8, 9]])\n",
    "a[0, 0:2]  # first two rows and first two columns\n",
    "a[:, 0:2]  # all the rows and first two columns\n",
    "a[0,1:]\n"
   ]
  }
 ],
 "metadata": {
  "kernelspec": {
   "display_name": "Python 3",
   "language": "python",
   "name": "python3"
  },
  "language_info": {
   "codemirror_mode": {
    "name": "ipython",
    "version": 3
   },
   "file_extension": ".py",
   "mimetype": "text/x-python",
   "name": "python",
   "nbconvert_exporter": "python",
   "pygments_lexer": "ipython3",
   "version": "3.11.1"
  },
  "vscode": {
   "interpreter": {
    "hash": "aee8b7b246df8f9039afb4144a1f6fd8d2ca17a180786b69acc140d282b71a49"
   }
  }
 },
 "nbformat": 4,
 "nbformat_minor": 5
}
