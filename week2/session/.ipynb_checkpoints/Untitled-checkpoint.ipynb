{
 "cells": [
  {
   "cell_type": "code",
   "execution_count": 1,
   "id": "1851e06b",
   "metadata": {},
   "outputs": [],
   "source": [
    "import numpy as np"
   ]
  },
  {
   "cell_type": "code",
   "execution_count": 2,
   "id": "3a81ef86",
   "metadata": {},
   "outputs": [
    {
     "data": {
      "text/plain": [
       "array([[0., 0.],\n",
       "       [0., 0.],\n",
       "       [0., 0.]])"
      ]
     },
     "execution_count": 2,
     "metadata": {},
     "output_type": "execute_result"
    }
   ],
   "source": [
    "np.zeros((3,2))"
   ]
  },
  {
   "cell_type": "code",
   "execution_count": 3,
   "id": "86b55e58",
   "metadata": {},
   "outputs": [
    {
     "data": {
      "text/plain": [
       "array([[1., 0., 0., 0., 0.],\n",
       "       [0., 1., 0., 0., 0.],\n",
       "       [0., 0., 1., 0., 0.],\n",
       "       [0., 0., 0., 1., 0.],\n",
       "       [0., 0., 0., 0., 1.]])"
      ]
     },
     "execution_count": 3,
     "metadata": {},
     "output_type": "execute_result"
    }
   ],
   "source": [
    "np.eye(5)"
   ]
  },
  {
   "cell_type": "code",
   "execution_count": 4,
   "id": "1182bd03",
   "metadata": {},
   "outputs": [
    {
     "data": {
      "text/plain": [
       "array([[2., 0., 0., 0., 0.],\n",
       "       [0., 2., 0., 0., 0.],\n",
       "       [0., 0., 2., 0., 0.],\n",
       "       [0., 0., 0., 2., 0.],\n",
       "       [0., 0., 0., 0., 2.]])"
      ]
     },
     "execution_count": 4,
     "metadata": {},
     "output_type": "execute_result"
    }
   ],
   "source": [
    "2*np.eye(5)"
   ]
  },
  {
   "cell_type": "code",
   "execution_count": 5,
   "id": "0dd3cb48",
   "metadata": {},
   "outputs": [
    {
     "data": {
      "text/plain": [
       "array([1, 2, 3, 4, 5, 6])"
      ]
     },
     "execution_count": 5,
     "metadata": {},
     "output_type": "execute_result"
    }
   ],
   "source": [
    "np.arange(1,7)"
   ]
  },
  {
   "cell_type": "code",
   "execution_count": 6,
   "id": "3b8c1708",
   "metadata": {},
   "outputs": [
    {
     "data": {
      "text/plain": [
       "array([[ 0,  1,  2],\n",
       "       [ 3,  4,  5],\n",
       "       [ 6,  7,  8],\n",
       "       [ 9, 10, 11]])"
      ]
     },
     "execution_count": 6,
     "metadata": {},
     "output_type": "execute_result"
    }
   ],
   "source": [
    "np.arange(0,12).reshape(4,3)"
   ]
  },
  {
   "cell_type": "code",
   "execution_count": 7,
   "id": "6ca8f3bc",
   "metadata": {},
   "outputs": [
    {
     "data": {
      "text/plain": [
       "array([[ 2,  3,  4,  5,  6],\n",
       "       [ 7,  8,  9, 10, 11],\n",
       "       [12, 13, 14, 15, 16],\n",
       "       [17, 18, 19, 20, 21],\n",
       "       [22, 23, 24, 25, 26]])"
      ]
     },
     "execution_count": 7,
     "metadata": {},
     "output_type": "execute_result"
    }
   ],
   "source": [
    "np.arange(2,27).reshape(5,5)"
   ]
  },
  {
   "cell_type": "code",
   "execution_count": 8,
   "id": "04561bac",
   "metadata": {},
   "outputs": [],
   "source": [
    "a = np.array([[1,2],[2,3]])\n",
    "b = np.array([[2,1],[5,4]])"
   ]
  },
  {
   "cell_type": "code",
   "execution_count": 9,
   "id": "06fcf019",
   "metadata": {},
   "outputs": [
    {
     "data": {
      "text/plain": [
       "array([[1, 2],\n",
       "       [2, 3]])"
      ]
     },
     "execution_count": 9,
     "metadata": {},
     "output_type": "execute_result"
    }
   ],
   "source": [
    "a"
   ]
  },
  {
   "cell_type": "code",
   "execution_count": 10,
   "id": "edf833a4",
   "metadata": {},
   "outputs": [
    {
     "data": {
      "text/plain": [
       "array([[2, 1],\n",
       "       [5, 4]])"
      ]
     },
     "execution_count": 10,
     "metadata": {},
     "output_type": "execute_result"
    }
   ],
   "source": [
    "b"
   ]
  },
  {
   "cell_type": "code",
   "execution_count": 11,
   "id": "edff668a",
   "metadata": {},
   "outputs": [
    {
     "data": {
      "text/plain": [
       "array([[12,  9],\n",
       "       [19, 14]])"
      ]
     },
     "execution_count": 11,
     "metadata": {},
     "output_type": "execute_result"
    }
   ],
   "source": [
    "np.dot(a,b)"
   ]
  },
  {
   "cell_type": "code",
   "execution_count": 12,
   "id": "f2a56bc6",
   "metadata": {},
   "outputs": [
    {
     "data": {
      "text/plain": [
       "array([[12,  9],\n",
       "       [19, 14]])"
      ]
     },
     "execution_count": 12,
     "metadata": {},
     "output_type": "execute_result"
    }
   ],
   "source": [
    "a@b"
   ]
  },
  {
   "cell_type": "code",
   "execution_count": 13,
   "id": "31859dce",
   "metadata": {},
   "outputs": [
    {
     "data": {
      "text/plain": [
       "array([[12, 18],\n",
       "       [38, 42]])"
      ]
     },
     "execution_count": 13,
     "metadata": {},
     "output_type": "execute_result"
    }
   ],
   "source": [
    "np.multiply(np.dot(a,b),a)"
   ]
  },
  {
   "cell_type": "markdown",
   "id": "9f6ab776",
   "metadata": {},
   "source": [
    "**let us say we have 4 companies with shares 2 millions, 1 million, 800000, 400000. if we purchased 3 shares from the first company, 4 shares from the second, 2 shares from the third, and 6 shares from the last company, so what is the total amount purchased?**"
   ]
  },
  {
   "cell_type": "code",
   "execution_count": 40,
   "id": "f498b424",
   "metadata": {},
   "outputs": [],
   "source": [
    "s = np.array([[2000000],[1000000],[800000],[400000]])\n",
    "p = np.array([[3],[4],[2],[6]])"
   ]
  },
  {
   "cell_type": "code",
   "execution_count": 41,
   "id": "b01511a7",
   "metadata": {},
   "outputs": [],
   "source": [
    "total = np.dot(s.T,p) #so 4X1 and 1X4"
   ]
  },
  {
   "cell_type": "code",
   "execution_count": 44,
   "id": "351b7fc4",
   "metadata": {},
   "outputs": [
    {
     "name": "stdout",
     "output_type": "stream",
     "text": [
      "the total is 14000000\n"
     ]
    }
   ],
   "source": [
    "print(\"the total is\", int(total))"
   ]
  },
  {
   "cell_type": "code",
   "execution_count": null,
   "id": "54a7eca4",
   "metadata": {},
   "outputs": [],
   "source": []
  }
 ],
 "metadata": {
  "kernelspec": {
   "display_name": "Python 3 (ipykernel)",
   "language": "python",
   "name": "python3"
  },
  "language_info": {
   "codemirror_mode": {
    "name": "ipython",
    "version": 3
   },
   "file_extension": ".py",
   "mimetype": "text/x-python",
   "name": "python",
   "nbconvert_exporter": "python",
   "pygments_lexer": "ipython3",
   "version": "3.9.13"
  },
  "vscode": {
   "interpreter": {
    "hash": "aee8b7b246df8f9039afb4144a1f6fd8d2ca17a180786b69acc140d282b71a49"
   }
  }
 },
 "nbformat": 4,
 "nbformat_minor": 5
}
