{
 "cells": [
  {
   "attachments": {},
   "cell_type": "markdown",
   "metadata": {},
   "source": [
    "Find the Sn for the arithmetic sequence {an}, and then solve for S10."
   ]
  },
  {
   "attachments": {},
   "cell_type": "markdown",
   "metadata": {},
   "source": [
    "The first term is 5, and the common difference is 3"
   ]
  },
  {
   "cell_type": "code",
   "execution_count": 3,
   "metadata": {},
   "outputs": [
    {
     "name": "stdout",
     "output_type": "stream",
     "text": [
      "S10 =  185 by summation\n"
     ]
    }
   ],
   "source": [
    "N = 10\n",
    "a = 5\n",
    "d = 3\n",
    "\n",
    "sum = 0\n",
    "for n in range(1,N+1):\n",
    "    sum += (a+(n-1)*d)\n",
    "print(\"S10 = \", sum, \"by summation\")\n"
   ]
  },
  {
   "attachments": {},
   "cell_type": "markdown",
   "metadata": {},
   "source": [
    "Find the sum\n",
    "\n",
    "<img src=\"sum-example-1.png\" width=\"200px\">"
   ]
  },
  {
   "cell_type": "code",
   "execution_count": 6,
   "metadata": {},
   "outputs": [
    {
     "name": "stdout",
     "output_type": "stream",
     "text": [
      "The sum is =  330\n"
     ]
    }
   ],
   "source": [
    "N = 10\n",
    "sum = 0\n",
    "for k in range(1,N+1):\n",
    "    sum += (k**2 - k)\n",
    "print(\"The sum is = \", sum)"
   ]
  },
  {
   "attachments": {},
   "cell_type": "markdown",
   "metadata": {},
   "source": [
    "Find the domain and range of the following function and draw its graph\n",
    "\n",
    "f(x) = 3x +1"
   ]
  },
  {
   "cell_type": "code",
   "execution_count": 10,
   "metadata": {},
   "outputs": [
    {
     "data": {
      "image/png": "[encoded data removed]",
      "text/plain": [
       "<Figure size 640x480 with 1 Axes>"
      ]
     },
     "metadata": {},
     "output_type": "display_data"
    }
   ],
   "source": [
    "import numpy as np\n",
    "import matplotlib.pyplot as plt\n",
    "x = np.linspace(-5, 5, 1001)\n",
    "fx = 3*x+1\n",
    "plt.plot(x,fx)\n",
    "plt.show()\n"
   ]
  },
  {
   "attachments": {},
   "cell_type": "markdown",
   "metadata": {},
   "source": [
    "Find (g ° f) (2), (f ° g) (2), (g ° g) (2) for the functions f and g in f(x) = X3 + 1, and g (x) = Vx + 2, respectively."
   ]
  },
  {
   "cell_type": "code",
   "execution_count": 11,
   "metadata": {},
   "outputs": [
    {
     "name": "stdout",
     "output_type": "stream",
     "text": [
      "(g o f) (2) = 3.3166247903554\n",
      "(f o g) (2) = 9.0\n",
      "(g o g) (2) = 2.0\n"
     ]
    }
   ],
   "source": [
    "import numpy as np\n",
    "\n",
    "def f(x):\n",
    "    return x**3+1\n",
    "def g(x):\n",
    "    return np.sqrt(x+2)\n",
    "\n",
    "print(\"(g o f) (2) =\", g(f(2)))\n",
    "print(\"(f o g) (2) =\", f(g(2)))\n",
    "print(\"(g o g) (2) =\", g(g(2)))\n"
   ]
  },
  {
   "attachments": {},
   "cell_type": "markdown",
   "metadata": {},
   "source": [
    "Find AB and BA when matrices A, B are as follows, respectively.\n",
    "\n",
    "<img src=\"matrix-exmaple-1.png\" width=\"200px\">"
   ]
  },
  {
   "cell_type": "code",
   "execution_count": 19,
   "metadata": {},
   "outputs": [
    {
     "name": "stdout",
     "output_type": "stream",
     "text": [
      "AB =  [[13  4]\n",
      " [19  4]]\n",
      "BA =  [[ 6  7  1]\n",
      " [ 0  2  2]\n",
      " [30 39  9]]\n"
     ]
    }
   ],
   "source": [
    "import numpy as np\n",
    "A = np.array([[2,3,1],[4,5,1]])\n",
    "B = np.array([[-1,2],[4,-2],[3,6]])\n",
    "print(\"AB = \", np.dot(A,B))\n",
    "print(\"BA = \", np.dot(B,A))"
   ]
  },
  {
   "attachments": {},
   "cell_type": "markdown",
   "metadata": {},
   "source": [
    "Find the Derivative of the Constant Function\n",
    "\n",
    "<img src=\"differential-example.png\" width=\"200px\">"
   ]
  },
  {
   "cell_type": "code",
   "execution_count": 2,
   "metadata": {},
   "outputs": [
    {
     "name": "stdout",
     "output_type": "stream",
     "text": [
      "Derivative og g(x) is:  (x + 1)**(-2)\n"
     ]
    }
   ],
   "source": [
    "import sympy as sp\n",
    "x = sp.Symbol('x')\n",
    "gx = x/(x+1)\n",
    "print(\"Derivative og g(x) is: \", sp.simplify(sp.diff(gx,x)))"
   ]
  }
 ],
 "metadata": {
  "kernelspec": {
   "display_name": "Python 3",
   "language": "python",
   "name": "python3"
  },
  "language_info": {
   "codemirror_mode": {
    "name": "ipython",
    "version": 3
   },
   "file_extension": ".py",
   "mimetype": "text/x-python",
   "name": "python",
   "nbconvert_exporter": "python",
   "pygments_lexer": "ipython3",
   "version": "3.11.1"
  },
  "orig_nbformat": 4,
  "vscode": {
   "interpreter": {
    "hash": "aee8b7b246df8f9039afb4144a1f6fd8d2ca17a180786b69acc140d282b71a49"
   }
  }
 },
 "nbformat": 4,
 "nbformat_minor": 2
}
