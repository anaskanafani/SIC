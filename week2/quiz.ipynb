{
 "cells": [
  {
   "cell_type": "code",
   "execution_count": 1,
   "id": "1d03f218",
   "metadata": {},
   "outputs": [],
   "source": [
    "import numpy as np"
   ]
  },
  {
   "cell_type": "code",
   "execution_count": 5,
   "id": "31352f91",
   "metadata": {},
   "outputs": [
    {
     "data": {
      "text/plain": [
       "array([[3., 0., 0.],\n",
       "       [0., 3., 0.],\n",
       "       [0., 0., 3.]])"
      ]
     },
     "execution_count": 5,
     "metadata": {},
     "output_type": "execute_result"
    }
   ],
   "source": [
    "3*np.eye((3))"
   ]
  },
  {
   "cell_type": "code",
   "execution_count": 8,
   "id": "110719f6",
   "metadata": {},
   "outputs": [
    {
     "data": {
      "text/plain": [
       "array([[0, 1, 2],\n",
       "       [3, 4, 5],\n",
       "       [6, 7, 8]])"
      ]
     },
     "execution_count": 8,
     "metadata": {},
     "output_type": "execute_result"
    }
   ],
   "source": [
    "np.arange(0,9).reshape(3,3)"
   ]
  },
  {
   "cell_type": "code",
   "execution_count": 70,
   "id": "0734cf5e",
   "metadata": {},
   "outputs": [],
   "source": [
    "a = np.array([[3,2],[1,5]])\n",
    "b = np.array([[2,2],[7,5]])"
   ]
  },
  {
   "cell_type": "code",
   "execution_count": 72,
   "id": "93cdc1c5",
   "metadata": {},
   "outputs": [
    {
     "data": {
      "text/plain": [
       "array([[ 60,  32],\n",
       "       [ 37, 135]])"
      ]
     },
     "execution_count": 72,
     "metadata": {},
     "output_type": "execute_result"
    }
   ],
   "source": [
    "np.multiply(np.dot(a,b),a)"
   ]
  },
  {
   "cell_type": "code",
   "execution_count": 23,
   "id": "0b258870",
   "metadata": {},
   "outputs": [],
   "source": [
    "P = np.array([[100], [80], [50]])\n",
    "N = np.array([[3], [4], [5]])"
   ]
  },
  {
   "cell_type": "code",
   "execution_count": 28,
   "id": "98630cff",
   "metadata": {},
   "outputs": [
    {
     "data": {
      "text/plain": [
       "array([[870]])"
      ]
     },
     "execution_count": 28,
     "metadata": {},
     "output_type": "execute_result"
    }
   ],
   "source": [
    "np.dot(P.T, N)"
   ]
  },
  {
   "cell_type": "code",
   "execution_count": 29,
   "id": "f5f82df4",
   "metadata": {},
   "outputs": [],
   "source": [
    "from sklearn.datasets import load_digits\n",
    "X=load_digits().data"
   ]
  },
  {
   "cell_type": "code",
   "execution_count": 36,
   "id": "ee598c8b",
   "metadata": {},
   "outputs": [
    {
     "data": {
      "text/plain": [
       "array([[3070., 1866., 2264., ..., 2812., 3006., 2898.],\n",
       "       [1866., 4209., 3432., ..., 3906., 3083., 3307.],\n",
       "       [2264., 3432., 4388., ..., 4005., 3063., 3697.],\n",
       "       ...,\n",
       "       [2812., 3906., 4005., ..., 5092., 3729., 4598.],\n",
       "       [3006., 3083., 3063., ..., 3729., 4316., 3850.],\n",
       "       [2898., 3307., 3697., ..., 4598., 3850., 4938.]])"
      ]
     },
     "execution_count": 36,
     "metadata": {},
     "output_type": "execute_result"
    }
   ],
   "source": [
    "X@X.T"
   ]
  },
  {
   "cell_type": "code",
   "execution_count": 39,
   "id": "b66f5313",
   "metadata": {},
   "outputs": [
    {
     "data": {
      "text/plain": [
       "array([[0.5, 0. ],\n",
       "       [0. , 1. ]])"
      ]
     },
     "execution_count": 39,
     "metadata": {},
     "output_type": "execute_result"
    }
   ],
   "source": [
    "a = np.array([[2,0],[0,1]])\n",
    "np.linalg.inv(a)"
   ]
  },
  {
   "cell_type": "code",
   "execution_count": 7,
   "id": "2b88a8f6",
   "metadata": {},
   "outputs": [],
   "source": [
    "# import numpy as np\n",
    "# from sklearn.datasets import load_boston\n",
    "# boston=load_boston()\n",
    "# X=boston.data\n",
    "# y=boston.target"
   ]
  },
  {
   "cell_type": "code",
   "execution_count": 4,
   "id": "a3a50c8f",
   "metadata": {},
   "outputs": [],
   "source": [
    "# A = X[:,:4], b = y[:4]\n",
    "# A = A[:, 0,4,5,6]\n",
    "# Ainv=np.linalg.inv(A), x = np.dot(A, b)"
   ]
  },
  {
   "cell_type": "code",
   "execution_count": 6,
   "id": "04b53650",
   "metadata": {},
   "outputs": [],
   "source": [
    "# np.linalg.lstsq(X, y, rcond=None)[0]"
   ]
  },
  {
   "cell_type": "code",
   "execution_count": 8,
   "id": "9c5e4e9e",
   "metadata": {},
   "outputs": [],
   "source": [
    "a=np.array([[4],[5],[2],[2]])\n",
    "b=np.array([[4],[0],[2],[0]])\n",
    "c=np.array([[2],[2],[0],[1]])"
   ]
  },
  {
   "cell_type": "code",
   "execution_count": 11,
   "id": "7e139019",
   "metadata": {},
   "outputs": [
    {
     "data": {
      "text/plain": [
       "array([[5.38516481]])"
      ]
     },
     "execution_count": 11,
     "metadata": {},
     "output_type": "execute_result"
    }
   ],
   "source": [
    "temp = a-b\n",
    "sum_dist = np.dot(temp.T,temp)\n",
    "np.sqrt(sum_dist)"
   ]
  },
  {
   "cell_type": "code",
   "execution_count": 12,
   "id": "0e08db44",
   "metadata": {},
   "outputs": [
    {
     "data": {
      "text/plain": [
       "array([[3.60555128]])"
      ]
     },
     "execution_count": 12,
     "metadata": {},
     "output_type": "execute_result"
    }
   ],
   "source": [
    "temp = c-b\n",
    "sum_dist = np.dot(temp.T,temp)\n",
    "np.sqrt(sum_dist)"
   ]
  },
  {
   "cell_type": "code",
   "execution_count": 13,
   "id": "aa492371",
   "metadata": {},
   "outputs": [
    {
     "data": {
      "text/plain": [
       "array([[4.24264069]])"
      ]
     },
     "execution_count": 13,
     "metadata": {},
     "output_type": "execute_result"
    }
   ],
   "source": [
    "temp = a-c\n",
    "sum_dist = np.dot(temp.T,temp)\n",
    "np.sqrt(sum_dist)"
   ]
  },
  {
   "cell_type": "code",
   "execution_count": 23,
   "id": "733abeea",
   "metadata": {},
   "outputs": [
    {
     "data": {
      "text/plain": [
       "array([[20]])"
      ]
     },
     "execution_count": 23,
     "metadata": {},
     "output_type": "execute_result"
    }
   ],
   "source": [
    "a.T@b"
   ]
  },
  {
   "cell_type": "code",
   "execution_count": 21,
   "id": "0cc3a4cc",
   "metadata": {},
   "outputs": [
    {
     "data": {
      "text/plain": [
       "array([[20]])"
      ]
     },
     "execution_count": 21,
     "metadata": {},
     "output_type": "execute_result"
    }
   ],
   "source": [
    "c.T@a"
   ]
  },
  {
   "cell_type": "code",
   "execution_count": 25,
   "id": "10859ed3",
   "metadata": {},
   "outputs": [
    {
     "data": {
      "text/plain": [
       "array([[8]])"
      ]
     },
     "execution_count": 25,
     "metadata": {},
     "output_type": "execute_result"
    }
   ],
   "source": [
    "c.T@b"
   ]
  },
  {
   "cell_type": "code",
   "execution_count": 43,
   "id": "883e7d00",
   "metadata": {},
   "outputs": [],
   "source": [
    "import sympy as sp\n",
    "x,y,k = sp.symbols('x y k')"
   ]
  },
  {
   "cell_type": "code",
   "execution_count": 44,
   "id": "9bec7e05",
   "metadata": {},
   "outputs": [],
   "source": [
    "# f = 1/(1+sp.exp(-x))\n",
    "# f"
   ]
  },
  {
   "cell_type": "code",
   "execution_count": 45,
   "id": "f07ad203",
   "metadata": {},
   "outputs": [
    {
     "data": {
      "text/latex": [
       "$\\displaystyle x^{3} - 1$"
      ],
      "text/plain": [
       "x**3 - 1"
      ]
     },
     "execution_count": 45,
     "metadata": {},
     "output_type": "execute_result"
    }
   ],
   "source": [
    "f = x**3 - 1\n",
    "f"
   ]
  },
  {
   "cell_type": "code",
   "execution_count": 46,
   "id": "6afe55f3",
   "metadata": {},
   "outputs": [
    {
     "data": {
      "text/latex": [
       "$\\displaystyle 3 x^{2}$"
      ],
      "text/plain": [
       "3*x**2"
      ]
     },
     "execution_count": 46,
     "metadata": {},
     "output_type": "execute_result"
    }
   ],
   "source": [
    "F_x = sp.diff(f,x)\n",
    "F_x"
   ]
  },
  {
   "cell_type": "code",
   "execution_count": 47,
   "id": "a9d92e11",
   "metadata": {},
   "outputs": [
    {
     "data": {
      "text/latex": [
       "$\\displaystyle \\log{\\left(- 3 k + x^{2} \\right)}$"
      ],
      "text/plain": [
       "log(-3*k + x**2)"
      ]
     },
     "execution_count": 47,
     "metadata": {},
     "output_type": "execute_result"
    }
   ],
   "source": [
    "f = sp.log(x**2-3*k)\n",
    "f"
   ]
  },
  {
   "cell_type": "code",
   "execution_count": 48,
   "id": "b3699902",
   "metadata": {},
   "outputs": [
    {
     "data": {
      "text/latex": [
       "$\\displaystyle \\frac{2 x}{- 3 k + x^{2}}$"
      ],
      "text/plain": [
       "2*x/(-3*k + x**2)"
      ]
     },
     "execution_count": 48,
     "metadata": {},
     "output_type": "execute_result"
    }
   ],
   "source": [
    "fx = sp.diff(f,x)\n",
    "fx"
   ]
  },
  {
   "cell_type": "code",
   "execution_count": 54,
   "id": "2f38fcfb",
   "metadata": {},
   "outputs": [
    {
     "data": {
      "text/latex": [
       "$\\displaystyle e^{a x^{b}}$"
      ],
      "text/plain": [
       "exp(a*x**b)"
      ]
     },
     "execution_count": 54,
     "metadata": {},
     "output_type": "execute_result"
    }
   ],
   "source": [
    "x,y,a,b = sp.symbols('x y a b')\n",
    "f = sp.exp(a*x**b)\n",
    "f"
   ]
  },
  {
   "cell_type": "code",
   "execution_count": 55,
   "id": "7f6cc096",
   "metadata": {},
   "outputs": [
    {
     "data": {
      "text/latex": [
       "$\\displaystyle \\frac{a b x^{b} e^{a x^{b}}}{x}$"
      ],
      "text/plain": [
       "a*b*x**b*exp(a*x**b)/x"
      ]
     },
     "execution_count": 55,
     "metadata": {},
     "output_type": "execute_result"
    }
   ],
   "source": [
    "sp.diff(f,x)"
   ]
  },
  {
   "cell_type": "code",
   "execution_count": 59,
   "id": "e0c50da3",
   "metadata": {},
   "outputs": [
    {
     "data": {
      "text/latex": [
       "$\\displaystyle e^{x^{2} + 2 y^{2}}$"
      ],
      "text/plain": [
       "exp(x**2 + 2*y**2)"
      ]
     },
     "execution_count": 59,
     "metadata": {},
     "output_type": "execute_result"
    }
   ],
   "source": [
    "f = sp.exp(x**2+2*y**2)\n",
    "f"
   ]
  },
  {
   "cell_type": "code",
   "execution_count": 60,
   "id": "db22073f",
   "metadata": {},
   "outputs": [
    {
     "data": {
      "text/latex": [
       "$\\displaystyle 2 x e^{x^{2} + 2 y^{2}}$"
      ],
      "text/plain": [
       "2*x*exp(x**2 + 2*y**2)"
      ]
     },
     "execution_count": 60,
     "metadata": {},
     "output_type": "execute_result"
    }
   ],
   "source": [
    "sp.diff(f,x)"
   ]
  },
  {
   "cell_type": "code",
   "execution_count": 64,
   "id": "a7e26607",
   "metadata": {},
   "outputs": [],
   "source": [
    "import sympy"
   ]
  },
  {
   "cell_type": "code",
   "execution_count": 65,
   "id": "2ee7fc1d",
   "metadata": {},
   "outputs": [],
   "source": [
    "x = sympy.symbols('x')"
   ]
  },
  {
   "cell_type": "code",
   "execution_count": 69,
   "id": "ccc6e918",
   "metadata": {},
   "outputs": [
    {
     "data": {
      "text/latex": [
       "$\\displaystyle x^{3} - 1$"
      ],
      "text/plain": [
       "x**3 - 1"
      ]
     },
     "execution_count": 69,
     "metadata": {},
     "output_type": "execute_result"
    }
   ],
   "source": [
    "f=x**3-1\n",
    "f"
   ]
  },
  {
   "cell_type": "code",
   "execution_count": null,
   "id": "77971725",
   "metadata": {},
   "outputs": [],
   "source": []
  }
 ],
 "metadata": {
  "kernelspec": {
   "display_name": "Python 3 (ipykernel)",
   "language": "python",
   "name": "python3"
  },
  "language_info": {
   "codemirror_mode": {
    "name": "ipython",
    "version": 3
   },
   "file_extension": ".py",
   "mimetype": "text/x-python",
   "name": "python",
   "nbconvert_exporter": "python",
   "pygments_lexer": "ipython3",
   "version": "3.9.13"
  }
 },
 "nbformat": 4,
 "nbformat_minor": 5
}
